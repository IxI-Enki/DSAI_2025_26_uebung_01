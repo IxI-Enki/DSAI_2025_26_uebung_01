{
  "cells": [
    {
      "cell_type": "code",
      "execution_count": 1,
      "metadata": {},
      "outputs": [
        {
          "name": "stdout",
          "output_type": "stream",
          "text": [
            "Note: you may need to restart the kernel to use updated packages.\n"
          ]
        },
        {
          "name": "stderr",
          "output_type": "stream",
          "text": [
            "ERROR: Could not install packages due to an OSError: [WinError 32] Der Prozess kann nicht auf die Datei zugreifen, da sie von einem anderen Prozess verwendet wird: 'c:\\\\Python313\\\\Lib\\\\site-packages\\\\websocket\\\\tests\\\\test_websocket.py'\n",
            "Consider using the `--user` option or check the permissions.\n",
            "\n"
          ]
        }
      ],
      "source": [
        "# Install project requirements for this notebook\n",
        "# Uses Jupyter %pip magic to install into the active kernel env\n",
        "%pip install -q -r ../requirements.txt\n"
      ]
    },
    {
      "cell_type": "markdown",
      "metadata": {},
      "source": [
        "# Spotify Churn Dataset — EDA and Assignment Summary\n",
        "\n",
        "This notebook inspects `spotify_churn_dataset.csv` and its metadata to verify assignment criteria and produce basic exploratory analysis and visuals you can reuse in your PDF presentation.\n"
      ]
    },
    {
      "cell_type": "code",
      "execution_count": null,
      "metadata": {},
      "outputs": [],
      "source": [
        "import json\n",
        "from pathlib import Path\n",
        "\n",
        "import numpy as np\n",
        "import pandas as pd\n",
        "import seaborn as sns\n",
        "import matplotlib.pyplot as plt\n",
        "\n",
        "%matplotlib inline\n",
        "\n",
        "DATA_DIR = Path.cwd().parent if (Path.cwd().name == 'notebooks') else Path.cwd()\n",
        "CSV_PATH = DATA_DIR / 'spotify_churn_dataset.csv'\n",
        "META_PATH = DATA_DIR / 'spotify-dataset-for-churn-analysis-metadata.json'\n",
        "\n",
        "print('CSV exists:', CSV_PATH.exists(), 'size:', CSV_PATH.stat().st_size if CSV_PATH.exists() else 'NA')\n",
        "print('Metadata exists:', META_PATH.exists())\n",
        "\n",
        "df = pd.read_csv(CSV_PATH)\n",
        "print('Rows, Columns:', df.shape)\n",
        "df.head()\n"
      ]
    },
    {
      "cell_type": "code",
      "execution_count": null,
      "metadata": {},
      "outputs": [],
      "source": [
        "# Basic data info\n",
        "print('Columns:', list(df.columns))\n",
        "print('\\nDtypes:')\n",
        "print(df.dtypes)\n",
        "\n",
        "# Check target distribution\n",
        "print('\\nTarget value counts:')\n",
        "print(df['is_churned'].value_counts(dropna=False))\n",
        "\n",
        "# Simple missing check\n",
        "missing = df.isna().sum().sort_values(ascending=False)\n",
        "missing[missing > 0]\n"
      ]
    },
    {
      "cell_type": "code",
      "execution_count": null,
      "metadata": {},
      "outputs": [],
      "source": [
        "# Read and summarize metadata\n",
        "with open(META_PATH, 'r', encoding='utf-8') as f:\n",
        "    meta = json.load(f)\n",
        "\n",
        "meta_summary = {\n",
        "    'name': meta.get('name'),\n",
        "    'creator': (meta.get('creator') or {}).get('name'),\n",
        "    'catalog': (meta.get('includedInDataCatalog') or {}).get('name'),\n",
        "    'url': meta.get('url'),\n",
        "    'license': ((meta.get('license') or {}).get('name'), (meta.get('license') or {}).get('url')),\n",
        "    'datePublished': meta.get('datePublished'),\n",
        "    'dateModified': meta.get('dateModified'),\n",
        "    'synthetic': meta.get('alternateName'),\n",
        "}\n",
        "meta_summary\n"
      ]
    },
    {
      "cell_type": "code",
      "execution_count": null,
      "metadata": {},
      "outputs": [],
      "source": [
        "# Quick numeric summary\n",
        "num_cols = df.select_dtypes(include=[np.number]).columns\n",
        "summary = df[num_cols].describe().T\n",
        "summary\n"
      ]
    },
    {
      "cell_type": "code",
      "execution_count": null,
      "metadata": {},
      "outputs": [],
      "source": [
        "# Visuals\n",
        "sns.set_theme(style='whitegrid')\n",
        "\n",
        "fig, axes = plt.subplots(2, 2, figsize=(12, 10))\n",
        "\n",
        "sns.countplot(data=df, x='is_churned', ax=axes[0,0])\n",
        "axes[0,0].set_title('Target distribution (is_churned)')\n",
        "\n",
        "sns.boxplot(data=df, x='is_churned', y='listening_time', ax=axes[0,1])\n",
        "axes[0,1].set_title('Listening time by churn')\n",
        "\n",
        "sns.boxplot(data=df, x='is_churned', y='songs_played_per_day', ax=axes[1,0])\n",
        "axes[1,0].set_title('Songs per day by churn')\n",
        "\n",
        "sns.barplot(data=df, x='subscription_type', y='is_churned', estimator=np.mean, ax=axes[1,1])\n",
        "axes[1,1].set_title('Churn rate by subscription type')\n",
        "axes[1,1].set_ylabel('Mean churn rate')\n",
        "plt.tight_layout();\n"
      ]
    },
    {
      "cell_type": "code",
      "execution_count": null,
      "metadata": {},
      "outputs": [],
      "source": [
        "# Churn by subscription type: counts and percentage share\n",
        "from matplotlib.ticker import PercentFormatter\n",
        "\n",
        "fig, axes = plt.subplots(1, 2, figsize=(14, 5))\n",
        "\n",
        "# Counts per subscription_type split by churn status\n",
        "sns.countplot(data=df, x='subscription_type', hue='is_churned', ax=axes[0])\n",
        "axes[0].set_title('Counts by subscription type and churn status')\n",
        "axes[0].set_xlabel('subscription_type')\n",
        "axes[0].set_ylabel('count')\n",
        "# Relabel legend for readability\n",
        "handles, labels = axes[0].get_legend_handles_labels()\n",
        "label_map = {'0': 'Active', '1': 'Churned', 0: 'Active', 1: 'Churned'}\n",
        "axes[0].legend(handles=handles, labels=[label_map.get(l, l) for l in labels], title='Status')\n",
        "\n",
        "# Percentage (share) per subscription_type (stacked) using crosstab\n",
        "share = pd.crosstab(df['subscription_type'], df['is_churned'], normalize='index')\n",
        "share = share.rename(columns={0: 'Active', 1: 'Churned'}).sort_index()\n",
        "\n",
        "share[['Active', 'Churned']].plot(kind='bar', stacked=True, ax=axes[1], color=['#4dac26', '#d01c8b'])\n",
        "axes[1].set_title('Churn share per subscription type')\n",
        "axes[1].set_xlabel('subscription_type')\n",
        "axes[1].set_ylabel('share')\n",
        "axes[1].yaxis.set_major_formatter(PercentFormatter(1.0))\n",
        "axes[1].legend(title='Status', loc='upper right')\n",
        "\n",
        "plt.tight_layout();\n"
      ]
    },
    {
      "cell_type": "markdown",
      "metadata": {},
      "source": [
        "## Notes for the presentation\n",
        "- Source: Kaggle — \"Spotify Analysis Dataset 2025\" (Apache 2.0)\n",
        "- Data type: synthetic, tabular; mixed numeric + categorical\n",
        "- Rows represent users; target column: `is_churned` (0/1)\n",
        "- Brief findings: include target balance, key descriptive stats, and 2–4 visuals above.\n"
      ]
    }
  ],
  "metadata": {
    "kernelspec": {
      "display_name": "Python 3",
      "language": "python",
      "name": "python3"
    },
    "language_info": {
      "codemirror_mode": {
        "name": "ipython",
        "version": 3
      },
      "file_extension": ".py",
      "mimetype": "text/x-python",
      "name": "python",
      "nbconvert_exporter": "python",
      "pygments_lexer": "ipython3",
      "version": "3.13.7"
    }
  },
  "nbformat": 4,
  "nbformat_minor": 2
}
